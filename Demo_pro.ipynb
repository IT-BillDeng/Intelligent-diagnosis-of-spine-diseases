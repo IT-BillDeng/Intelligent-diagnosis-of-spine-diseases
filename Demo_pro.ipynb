{
 "cells": [
  {
   "source": [
    "Please check if CUDA in your device is available."
   ],
   "cell_type": "markdown",
   "metadata": {}
  },
  {
   "cell_type": "code",
   "execution_count": null,
   "metadata": {},
   "outputs": [],
   "source": [
    "import torch\n",
    "print(torch.__version__)\n",
    "print(torch.cuda.is_available())"
   ]
  },
  {
   "cell_type": "code",
   "execution_count": null,
   "metadata": {},
   "outputs": [],
   "source": [
    "%load_ext autoreload\n",
    "%autoreload 2\n",
    "import os\n",
    "import torch as t\n",
    "from utils.config import opt\n",
    "from model import FasterRCNNVGG16\n",
    "from trainer import FasterRCNNTrainer\n",
    "from data.util import  read_image\n",
    "from utils.vis_tool import vis_bbox\n",
    "from utils import array_tool as at\n",
    "from train import train\n",
    "from Test import test\n",
    "%matplotlib inline"
   ]
  },
  {
   "source": [
    "To use Visdom, please run the codes below in cmd and visit http://localhost:8097 in your browser.\n",
    "\n",
    "python -m visdom.server"
   ],
   "cell_type": "markdown",
   "metadata": {}
  },
  {
   "source": [
    "If you'd like to train for a new one, set **load_path** = None in utils/config.py"
   ],
   "cell_type": "markdown",
   "metadata": {}
  },
  {
   "cell_type": "code",
   "execution_count": null,
   "metadata": {},
   "outputs": [],
   "source": [
    "train()"
   ]
  },
  {
   "source": [
    "You'll need to download pretrained model from [Google Drive](https://drive.google.com/file/d/18Q8NfYfuuYRosvv2wn-wK3oIica36dIH/view?usp=sharing) or [BaiduDisk](https://pan.baidu.com/s/1e8XqqUCXdvdkgo6089QJAQ) with password：gpci"
   ],
   "cell_type": "markdown",
   "metadata": {}
  },
  {
   "cell_type": "code",
   "execution_count": null,
   "metadata": {},
   "outputs": [],
   "source": [
    "test()"
   ]
  },
  {
   "source": [
    "Following is a sample to show a demo of 2 images."
   ],
   "cell_type": "markdown",
   "metadata": {}
  },
  {
   "cell_type": "code",
   "execution_count": null,
   "metadata": {},
   "outputs": [],
   "source": [
    "faster_rcnn = FasterRCNNVGG16()\n",
    "trainer = FasterRCNNTrainer(faster_rcnn).cuda()"
   ]
  },
  {
   "cell_type": "code",
   "execution_count": null,
   "metadata": {},
   "outputs": [],
   "source": [
    "trainer.load(opt.load_path)\n",
    "imgs = list()\n",
    "img = read_image('demo/study0.jpg', color=True)\n",
    "img = t.from_numpy(img)\n",
    "imgs.append(img)\n",
    "img = read_image('demo/study1.jpg', color=True)\n",
    "img = t.from_numpy(img)\n",
    "imgs.append(img)\n",
    "_bboxes, _labels, _scores = trainer.faster_rcnn.predict(imgs,visualize=True)\n",
    "# print(_bboxes, _labels, _scores)\n",
    "vis_bbox(at.tonumpy(imgs[0]),\n",
    "         at.tonumpy(_bboxes[0]),\n",
    "         at.tonumpy(_labels[0]).reshape(-1),\n",
    "         at.tonumpy(_scores[0]).reshape(-1))\n",
    "vis_bbox(at.tonumpy(imgs[1]),\n",
    "         at.tonumpy(_bboxes[1]),\n",
    "         at.tonumpy(_labels[1]).reshape(-1),\n",
    "         at.tonumpy(_scores[1]).reshape(-1))"
   ]
  }
 ],
 "metadata": {
  "kernelspec": {
   "name": "python390jvsc74a57bd013fdf25ef2beee923e1f1011635d38d6ce68fb2882c6a64f76de1420ab9cc9f4",
   "display_name": "Python 3.9.0 64-bit"
  },
  "language_info": {
   "codemirror_mode": {
    "name": "ipython",
    "version": 3
   },
   "file_extension": ".py",
   "mimetype": "text/x-python",
   "name": "python",
   "nbconvert_exporter": "python",
   "pygments_lexer": "ipython3",
   "version": "3.9.0"
  },
  "metadata": {
   "interpreter": {
    "hash": "13fdf25ef2beee923e1f1011635d38d6ce68fb2882c6a64f76de1420ab9cc9f4"
   }
  }
 },
 "nbformat": 4,
 "nbformat_minor": 2
}